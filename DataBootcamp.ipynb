{
 "cells": [
  {
   "cell_type": "code",
   "execution_count": 1,
   "id": "543a0ac2",
   "metadata": {},
   "outputs": [],
   "source": [
    "import json\n",
    "import pandas as pd\n",
    "import numpy as np"
   ]
  },
  {
   "cell_type": "code",
   "execution_count": 2,
   "id": "2aec53a1",
   "metadata": {},
   "outputs": [
    {
     "data": {
      "text/plain": [
       "'Resources/wikipedia-movies.json'"
      ]
     },
     "execution_count": 2,
     "metadata": {},
     "output_type": "execute_result"
    }
   ],
   "source": [
    "# Define a variable for the directory that holds our data\n",
    "file_dir = 'Resources'\n",
    "f'{file_dir}/wikipedia-movies.json'\n",
    "f'Resources/wikipedia-movies.json'"
   ]
  },
  {
   "cell_type": "code",
   "execution_count": 3,
   "id": "346b967a",
   "metadata": {},
   "outputs": [],
   "source": [
    "# open the Wikipedia JSON file to be read into the variable\n",
    "with open('Resources/wikipedia-movies.json', mode='r') as jsonfile:\n",
    "    wiki_movies_raw = json.load(jsonfile)"
   ]
  },
  {
   "cell_type": "code",
   "execution_count": null,
   "id": "9f8b6b49",
   "metadata": {},
   "outputs": [],
   "source": []
  },
  {
   "cell_type": "code",
   "execution_count": null,
   "id": "80065826",
   "metadata": {},
   "outputs": [],
   "source": []
  }
 ],
 "metadata": {
  "kernelspec": {
   "display_name": "Python 3 (ipykernel)",
   "language": "python",
   "name": "python3"
  },
  "language_info": {
   "codemirror_mode": {
    "name": "ipython",
    "version": 3
   },
   "file_extension": ".py",
   "mimetype": "text/x-python",
   "name": "python",
   "nbconvert_exporter": "python",
   "pygments_lexer": "ipython3",
   "version": "3.9.7"
  }
 },
 "nbformat": 4,
 "nbformat_minor": 5
}
